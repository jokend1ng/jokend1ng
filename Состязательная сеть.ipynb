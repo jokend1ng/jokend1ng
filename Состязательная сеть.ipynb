{
  "nbformat": 4,
  "nbformat_minor": 0,
  "metadata": {
    "colab": {
      "name": "Untitled7.ipynb",
      "provenance": [],
      "authorship_tag": "ABX9TyMcVcaIDJ8QArY3BGkIEPTE",
      "include_colab_link": true
    },
    "kernelspec": {
      "name": "python3",
      "display_name": "Python 3"
    },
    "language_info": {
      "name": "python"
    }
  },
  "cells": [
    {
      "cell_type": "markdown",
      "metadata": {
        "id": "view-in-github",
        "colab_type": "text"
      },
      "source": [
        "<a href=\"https://colab.research.google.com/github/jokend1ng/jokend1ng/blob/jokend1ng-ml_LEANING/%D0%A1%D0%BE%D1%81%D1%82%D1%8F%D0%B7%D0%B0%D1%82%D0%B5%D0%BB%D1%8C%D0%BD%D0%B0%D1%8F%20%D1%81%D0%B5%D1%82%D1%8C.ipynb\" target=\"_parent\"><img src=\"https://colab.research.google.com/assets/colab-badge.svg\" alt=\"Open In Colab\"/></a>"
      ]
    },
    {
      "cell_type": "code",
      "execution_count": 1,
      "metadata": {
        "id": "s_usSIcn-DaY"
      },
      "outputs": [],
      "source": [
        "import os\n",
        "os.environ['TF_CPP_MIN_LOG_LEVEL']='2'\n",
        "\n",
        "import numpy as np\n",
        "import matplotlib.pyplot as plt\n",
        "import time\n",
        "\n",
        "from tensorflow.keras.datasets import mnist\n",
        "import tensorflow.keras.backend as K\n",
        "import tensorflow as tf\n",
        "from tensorflow.keras.layers import Dense,Flatten,Reshape,Input,BatchNormalization,Dropout\n",
        "from tensorflow.keras.layers import Conv2D,Conv2DTranspose,LeakyReLU\n"
      ]
    },
    {
      "cell_type": "code",
      "source": [
        "(x_train,y_train),(x_test,y_test)=mnist.load_data()\n",
        "\n",
        "x_train = x_train[y_train==7]\n",
        "y_train = y_train[y_train==7]\n"
      ],
      "metadata": {
        "colab": {
          "base_uri": "https://localhost:8080/"
        },
        "id": "JEhVzigt-80x",
        "outputId": "d8ffe555-0b73-44e1-f111-8ae8e4601299"
      },
      "execution_count": 2,
      "outputs": [
        {
          "output_type": "stream",
          "name": "stdout",
          "text": [
            "Downloading data from https://storage.googleapis.com/tensorflow/tf-keras-datasets/mnist.npz\n",
            "11493376/11490434 [==============================] - 0s 0us/step\n",
            "11501568/11490434 [==============================] - 0s 0us/step\n"
          ]
        }
      ]
    },
    {
      "cell_type": "code",
      "source": [
        "BUFFER_SIZE=x_train.shape[0]\n",
        "BATCH_SIZE=100\n",
        "\n",
        "BUFFER_SIZE=BUFFER_SIZE//BATCH_SIZE*BATCH_SIZE\n",
        "x_train=x_train[:BUFFER_SIZE]\n",
        "y_train=y_train[:BUFFER_SIZE]\n",
        "print(x_train.shape,y_train.shape)"
      ],
      "metadata": {
        "colab": {
          "base_uri": "https://localhost:8080/"
        },
        "id": "CUjNWgIb_Uai",
        "outputId": "5437bca8-9fb2-4052-9f6d-95c8bb88d2d1"
      },
      "execution_count": 3,
      "outputs": [
        {
          "output_type": "stream",
          "name": "stdout",
          "text": [
            "(6200, 28, 28) (6200,)\n"
          ]
        }
      ]
    },
    {
      "cell_type": "code",
      "source": [
        "x_train=x_train/255\n",
        "x_test=x_test/255"
      ],
      "metadata": {
        "id": "J0xpJSxqAPjM"
      },
      "execution_count": 4,
      "outputs": []
    },
    {
      "cell_type": "code",
      "source": [
        "x_train=np.reshape(x_train,(len(x_train),28,28,1))\n",
        "x_test=np.reshape(x_test,(len(x_test),28,28,1))"
      ],
      "metadata": {
        "id": "GyJZqVoXAXMQ"
      },
      "execution_count": 5,
      "outputs": []
    },
    {
      "cell_type": "code",
      "source": [
        "train_dataset=tf.data.Dataset.from_tensor_slices(x_train).shuffle(BUFFER_SIZE).batch(BATCH_SIZE)"
      ],
      "metadata": {
        "id": "3HtJhhvcAuOx"
      },
      "execution_count": 6,
      "outputs": []
    },
    {
      "cell_type": "code",
      "source": [
        "hidden_dim=2"
      ],
      "metadata": {
        "id": "Ic8aDbWgA90i"
      },
      "execution_count": 7,
      "outputs": []
    },
    {
      "cell_type": "code",
      "source": [
        "def dropout_and_batch():\n",
        "    return Dropout(0.3)(BatchNormalization())"
      ],
      "metadata": {
        "id": "1FQIacRJBBU1"
      },
      "execution_count": 8,
      "outputs": []
    },
    {
      "cell_type": "code",
      "source": [
        "generator =tf.keras.Sequential([\n",
        "  Dense(7*7*256,activation='relu',input_shape=(hidden_dim,)),\n",
        "  BatchNormalization(),\n",
        "  Reshape((7,7,256)),\n",
        "  Conv2DTranspose(128,(5,5),strides=(1,1),padding='same',activation='relu'),\n",
        "  BatchNormalization(), \n",
        "  Conv2DTranspose(64,(5,5),strides=(2,2),padding='same',activation='relu'),\n",
        "  BatchNormalization(),  \n",
        "  Conv2DTranspose(1,(5,5),strides=(2,2),padding='same',activation='sigmoid')                             \n",
        "])"
      ],
      "metadata": {
        "id": "XWnmAHVIBYPM"
      },
      "execution_count": 9,
      "outputs": []
    },
    {
      "cell_type": "code",
      "source": [
        "discriminator=tf.keras.Sequential()\n",
        "discriminator.add(Conv2D(64,(5,5),strides=(2,2),padding='same',input_shape=[28,28,1]))\n",
        "discriminator.add(LeakyReLU())\n",
        "discriminator.add(Dropout(0.3))\n",
        "\n",
        "discriminator.add(Conv2D(128,(5,5),strides=(2,2),padding='same'))\n",
        "discriminator.add(LeakyReLU())\n",
        "discriminator.add(Dropout(0.3))\n",
        "\n",
        "discriminator.add(Flatten())\n",
        "discriminator.add(Dense(1))\n"
      ],
      "metadata": {
        "id": "Y291WJM-D01b"
      },
      "execution_count": 10,
      "outputs": []
    },
    {
      "cell_type": "code",
      "source": [
        "cross_entropy=tf.keras.losses.BinaryCrossentropy(from_logits=True)"
      ],
      "metadata": {
        "id": "kug-q02mEzUO"
      },
      "execution_count": 11,
      "outputs": []
    },
    {
      "cell_type": "code",
      "source": [
        "def generator_loss(fake_output):\n",
        "    loss=cross_entropy(tf.ones_like(fake_output),fake_output)\n",
        "    return loss"
      ],
      "metadata": {
        "id": "kQgriN88F5nC"
      },
      "execution_count": 12,
      "outputs": []
    },
    {
      "cell_type": "code",
      "source": [
        "def discriminator_loss(real_output,fake_output):\n",
        "    real_loss=cross_entropy(tf.ones_like(real_output),real_output)\n",
        "    fake_loss=cross_entropy(tf.zeros_like(fake_output),fake_output)\n",
        "    total_loss=real_loss+fake_loss\n",
        "    return total_loss"
      ],
      "metadata": {
        "id": "DUqSx63NFNds"
      },
      "execution_count": 13,
      "outputs": []
    },
    {
      "cell_type": "code",
      "source": [
        "generator_optimizer=tf.keras.optimizers.Adam(1e-4)\n",
        "discriminator_optimizer=tf.keras.optimizers.Adam(1e-4)\n"
      ],
      "metadata": {
        "id": "3nFoL67lGTdw"
      },
      "execution_count": 14,
      "outputs": []
    },
    {
      "cell_type": "code",
      "source": [
        "@tf.function\n",
        "def train_step(images):\n",
        "    noise=tf.random.normal([BATCH_SIZE,hidden_dim])\n",
        "\n",
        "    with tf.GradientTape() as gen_tape,tf.GradientTape()as disc_tape:\n",
        "        generated_images=generator(noise,training=True)\n",
        "\n",
        "        real_output=discriminator(images,training=True)\n",
        "        fake_output=discriminator(generated_images,training=True)\n",
        "\n",
        "        gen_loss=generator_loss(fake_output)\n",
        "        disc_loss=discriminator_loss(real_output,fake_output)\n",
        "\n",
        "    gradients_of_generator=gen_tape.gradient(gen_loss,generator.trainable_variables)\n",
        "    gradients_of_discriminator=disc_tape.gradient(disc_loss,discriminator.trainable_variables)\n",
        "\n",
        "    generator_optimizer.apply_gradients(zip(gradients_of_generator,generator.trainable_variables))\n",
        "    discriminator_optimizer.apply_gradients(zip(gradients_of_discriminator,discriminator.trainable_variables))\n",
        "\n",
        "    return gen_loss, disc_loss\n",
        "    "
      ],
      "metadata": {
        "id": "l6pnhiaWHErX"
      },
      "execution_count": 15,
      "outputs": []
    },
    {
      "cell_type": "code",
      "source": [
        "def train(dataset, epochs):\n",
        "  history = []\n",
        "  MAX_PRINT_LABEL = 10\n",
        "  th = BUFFER_SIZE // (BATCH_SIZE*MAX_PRINT_LABEL)\n",
        " \n",
        "  for epoch in range(1, epochs+1):\n",
        "    print(f'{epoch}/{EPOCHS}: ', end='')\n",
        " \n",
        "    start = time.time()\n",
        "    n = 0\n",
        " \n",
        "    gen_loss_epoch = 0\n",
        "    for image_batch in dataset:\n",
        "      gen_loss, disc_loss = train_step(image_batch)\n",
        "      gen_loss_epoch += K.mean(gen_loss)\n",
        "      if( n % th == 0): print('=', end='')\n",
        "      n += 1\n",
        " \n",
        "    history += [gen_loss_epoch/n]\n",
        "    print(': '+str(history[-1]))\n",
        "    print ('Время эпохи {} составляет {} секунд'.format(epoch + 1, time.time()-start))\n",
        "     \n",
        "  return history\n",
        "   "
      ],
      "metadata": {
        "id": "ZzV109GzJlEQ"
      },
      "execution_count": 16,
      "outputs": []
    },
    {
      "cell_type": "code",
      "source": [
        "EPOCHS=20\n",
        "history=train(train_dataset,EPOCHS)\n",
        "\n",
        "plt.plot(history)\n",
        "plt.show()\n",
        "n=2\n",
        "total=2*n+1\n",
        "\n",
        "plt.figure(figsize=(total,total))\n",
        "num=1\n",
        "for i in range(-n,n+1):\n",
        "    for j in range(-n,n+1):\n",
        "        ax=plt.subplot(total,total,num)\n",
        "        num+=1\n",
        "        img=generator.predict(np.expand_dims([0.5*i/n,0.5*j/n],axis=0))\n",
        "        plt.imshow(img[0,:,:,0],cmap='gray')\n",
        "        ax.get_xaxis().set_visible(False)\n",
        "        ax.get_yaxis().set_visible(False)\n",
        "plt.show()      \n",
        "\n"
      ],
      "metadata": {
        "colab": {
          "base_uri": "https://localhost:8080/",
          "height": 1000
        },
        "id": "yfctOYFZLNb5",
        "outputId": "c43750b8-7248-464b-fdda-d4cca2bf5e97"
      },
      "execution_count": 17,
      "outputs": [
        {
          "output_type": "stream",
          "name": "stdout",
          "text": [
            "1/20: ===========: tf.Tensor(1.5496659, shape=(), dtype=float32)\n",
            "Время эпохи 2 составляет 77.8758704662323 секунд\n",
            "2/20: ===========: tf.Tensor(2.6481752, shape=(), dtype=float32)\n",
            "Время эпохи 3 составляет 66.80544853210449 секунд\n",
            "3/20: ===========: tf.Tensor(3.2291381, shape=(), dtype=float32)\n",
            "Время эпохи 4 составляет 65.4618010520935 секунд\n",
            "4/20: ===========: tf.Tensor(3.3950882, shape=(), dtype=float32)\n",
            "Время эпохи 5 составляет 65.10731554031372 секунд\n",
            "5/20: ===========: tf.Tensor(3.2669644, shape=(), dtype=float32)\n",
            "Время эпохи 6 составляет 65.18483567237854 секунд\n",
            "6/20: ===========: tf.Tensor(3.3424408, shape=(), dtype=float32)\n",
            "Время эпохи 7 составляет 65.04922556877136 секунд\n",
            "7/20: ===========: tf.Tensor(3.1359384, shape=(), dtype=float32)\n",
            "Время эпохи 8 составляет 65.26711058616638 секунд\n",
            "8/20: ===========: tf.Tensor(3.4323902, shape=(), dtype=float32)\n",
            "Время эпохи 9 составляет 65.15093636512756 секунд\n",
            "9/20: ===========: tf.Tensor(3.5035229, shape=(), dtype=float32)\n",
            "Время эпохи 10 составляет 65.21859622001648 секунд\n",
            "10/20: ===========: tf.Tensor(1.4761188, shape=(), dtype=float32)\n",
            "Время эпохи 11 составляет 65.15886735916138 секунд\n",
            "11/20: ===========: tf.Tensor(1.160755, shape=(), dtype=float32)\n",
            "Время эпохи 12 составляет 65.29379272460938 секунд\n",
            "12/20: ===========: tf.Tensor(1.1669346, shape=(), dtype=float32)\n",
            "Время эпохи 13 составляет 66.15667605400085 секунд\n",
            "13/20: ===========: tf.Tensor(1.1638466, shape=(), dtype=float32)\n",
            "Время эпохи 14 составляет 65.2028636932373 секунд\n",
            "14/20: ===========: tf.Tensor(1.2149748, shape=(), dtype=float32)\n",
            "Время эпохи 15 составляет 65.18300580978394 секунд\n",
            "15/20: ===========: tf.Tensor(1.0746181, shape=(), dtype=float32)\n",
            "Время эпохи 16 составляет 65.2104914188385 секунд\n",
            "16/20: ===========: tf.Tensor(1.0851701, shape=(), dtype=float32)\n",
            "Время эпохи 17 составляет 65.13463139533997 секунд\n",
            "17/20: ===========: tf.Tensor(0.98851705, shape=(), dtype=float32)\n",
            "Время эпохи 18 составляет 65.15287041664124 секунд\n",
            "18/20: ===========: tf.Tensor(0.96590316, shape=(), dtype=float32)\n",
            "Время эпохи 19 составляет 65.15494227409363 секунд\n",
            "19/20: ===========: tf.Tensor(1.046181, shape=(), dtype=float32)\n",
            "Время эпохи 20 составляет 65.1239082813263 секунд\n",
            "20/20: ===========: tf.Tensor(0.9421135, shape=(), dtype=float32)\n",
            "Время эпохи 21 составляет 65.0407280921936 секунд\n"
          ]
        },
        {
          "output_type": "display_data",
          "data": {
            "text/plain": [
              "<Figure size 432x288 with 1 Axes>"
            ],
            "image/png": "[encoded data removed]"
          },
          "metadata": {
            "needs_background": "light"
          }
        },
        {
          "output_type": "display_data",
          "data": {
            "text/plain": [
              "<Figure size 360x360 with 25 Axes>"
            ],
            "image/png": "[encoded data removed]"
          },
          "metadata": {
            "needs_background": "light"
          }
        }
      ]
    },
    {
      "cell_type": "code",
      "source": [
        ""
      ],
      "metadata": {
        "id": "eq8HdyqtLYrD"
      },
      "execution_count": null,
      "outputs": []
    }
  ]
}