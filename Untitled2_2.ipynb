{
  "nbformat": 4,
  "nbformat_minor": 0,
  "metadata": {
    "colab": {
      "name": "Untitled2.ipynb",
      "provenance": [],
      "authorship_tag": "ABX9TyPvcmxdSQpWdc2vjNmHlGq2",
      "include_colab_link": true
    },
    "kernelspec": {
      "name": "python3",
      "display_name": "Python 3"
    },
    "language_info": {
      "name": "python"
    }
  },
  "cells": [
    {
      "cell_type": "markdown",
      "metadata": {
        "id": "view-in-github",
        "colab_type": "text"
      },
      "source": [
        "<a href=\"https://colab.research.google.com/github/jokend1ng/jokend1ng/blob/jokend1ng-ml_LEANING/Untitled2_2.ipynb\" target=\"_parent\"><img src=\"https://colab.research.google.com/assets/colab-badge.svg\" alt=\"Open In Colab\"/></a>"
      ]
    },
    {
      "cell_type": "code",
      "execution_count": 64,
      "metadata": {
        "id": "gl0wcPpkfwpc"
      },
      "outputs": [],
      "source": [
        "import os\n",
        "os.environ['TF_CPP_MIN_LOG_LEVEL'] = '2'\n",
        "\n",
        "import numpy as np\n",
        "\n",
        "from tensorflow.keras.layers import Dense, SimpleRNN, Input,Embedding\n",
        "from tensorflow.keras.models import Sequential\n",
        "from tensorflow.keras.preprocessing.text import Tokenizer, text_to_word_sequence\n",
        "from tensorflow.keras.utils import to_categorical\n"
      ]
    },
    {
      "cell_type": "code",
      "source": [
        "with open('text.txt', 'r', encoding='utf-8') as f:\n",
        "    texts = f.read()\n",
        "    texts = texts.replace('\\ufeff', '')  # убираем первый невидимый символ\n",
        " "
      ],
      "metadata": {
        "id": "Iz0E4m3MuZf5"
      },
      "execution_count": 65,
      "outputs": []
    },
    {
      "cell_type": "code",
      "source": [
        "maxWordsCount = 1000\n",
        "tokenizer = Tokenizer(num_words=maxWordsCount, filters='!–\"—#$%&amp;()*+,-./:;<=>?@[\\\\]^_`{|}~\\t\\n\\r«»',\n",
        "                      lower=True, split=' ', char_level=False)\n",
        "tokenizer.fit_on_texts([texts])"
      ],
      "metadata": {
        "id": "ymlDxrBLu8BI"
      },
      "execution_count": 66,
      "outputs": []
    },
    {
      "cell_type": "code",
      "source": [
        "dist = list(tokenizer.word_counts.items())\n",
        "print(dist[:10])"
      ],
      "metadata": {
        "colab": {
          "base_uri": "https://localhost:8080/"
        },
        "id": "ZSTG7wz4vKRe",
        "outputId": "85a3f53f-b52d-4580-cea9-3a2c7886f285"
      },
      "execution_count": 67,
      "outputs": [
        {
          "output_type": "stream",
          "name": "stdout",
          "text": [
            "[('аппетит', 1), ('приходит', 3), ('во', 4), ('время', 5), ('еды', 1), ('чем', 23), ('глубже', 3), ('вникаешь', 2), ('к', 13), ('чему', 4)]\n"
          ]
        }
      ]
    },
    {
      "cell_type": "code",
      "source": [
        "data = tokenizer.texts_to_sequences([texts])\n",
        "# res = to_categorical(data[0], num_classes=maxWordsCount)\n",
        "# print(res.shape)\n",
        "res=np.array(data[0])"
      ],
      "metadata": {
        "id": "FiaRPw1DvaWm"
      },
      "execution_count": 68,
      "outputs": []
    },
    {
      "cell_type": "code",
      "source": [
        "inp_words = 3\n",
        "n = res.shape[0] - inp_words"
      ],
      "metadata": {
        "id": "dyG6ZtgmvhwZ"
      },
      "execution_count": 69,
      "outputs": []
    },
    {
      "cell_type": "code",
      "source": [
        "X = np.array([res[i:i + inp_words] for i in range(n)])\n",
        "Y = to_categorical(res[inp_words:],num_classes=maxWordsCount)\n"
      ],
      "metadata": {
        "id": "W-CNF5nuvwzU"
      },
      "execution_count": 70,
      "outputs": []
    },
    {
      "cell_type": "code",
      "source": [
        "model = Sequential()\n",
        "model.add(Embedding(maxWordsCount,64,input_length=inp_words))\n",
        "model.add(Input((inp_words, maxWordsCount)))\n",
        "\n",
        "model.add(SimpleRNN(128, activation='tanh',return_sequences=True))\n",
        "model.add(SimpleRNN(64, activation='tanh'))\n",
        "model.add(Dense(maxWordsCount, activation='softmax'))\n",
        "model.summary()\n",
        "\n",
        "model.compile(loss='categorical_crossentropy', metrics=['accuracy'], optimizer='adam')\n",
        "\n",
        "history = model.fit(X, Y, batch_size=32, epochs=50)"
      ],
      "metadata": {
        "colab": {
          "base_uri": "https://localhost:8080/"
        },
        "id": "iy57p7YvwBVi",
        "outputId": "4aa261db-5f38-4add-e984-bab447f71cca"
      },
      "execution_count": 71,
      "outputs": [
        {
          "output_type": "stream",
          "name": "stdout",
          "text": [
            "Model: \"sequential_9\"\n",
            "_________________________________________________________________\n",
            " Layer (type)                Output Shape              Param #   \n",
            "=================================================================\n",
            " embedding_4 (Embedding)     (None, 3, 64)             64000     \n",
            "                                                                 \n",
            " input_10 (InputLayer)       multiple                  0         \n",
            "                                                                 \n",
            " simple_rnn_7 (SimpleRNN)    (None, 3, 128)            24704     \n",
            "                                                                 \n",
            " simple_rnn_8 (SimpleRNN)    (None, 64)                12352     \n",
            "                                                                 \n",
            " dense_6 (Dense)             (None, 1000)              65000     \n",
            "                                                                 \n",
            "=================================================================\n",
            "Total params: 166,056\n",
            "Trainable params: 166,056\n",
            "Non-trainable params: 0\n",
            "_________________________________________________________________\n",
            "Epoch 1/50\n",
            "90/90 [==============================] - 2s 8ms/step - loss: 6.5393 - accuracy: 0.0580\n",
            "Epoch 2/50\n",
            "90/90 [==============================] - 1s 8ms/step - loss: 6.0377 - accuracy: 0.0643\n",
            "Epoch 3/50\n",
            "90/90 [==============================] - 1s 7ms/step - loss: 5.8448 - accuracy: 0.0647\n",
            "Epoch 4/50\n",
            "90/90 [==============================] - 1s 7ms/step - loss: 5.6187 - accuracy: 0.0675\n",
            "Epoch 5/50\n",
            "90/90 [==============================] - 1s 7ms/step - loss: 5.3667 - accuracy: 0.0811\n",
            "Epoch 6/50\n",
            "90/90 [==============================] - 1s 7ms/step - loss: 5.0833 - accuracy: 0.1073\n",
            "Epoch 7/50\n",
            "90/90 [==============================] - 1s 7ms/step - loss: 4.8000 - accuracy: 0.1513\n",
            "Epoch 8/50\n",
            "90/90 [==============================] - 1s 7ms/step - loss: 4.5096 - accuracy: 0.2010\n",
            "Epoch 9/50\n",
            "90/90 [==============================] - 1s 7ms/step - loss: 4.2219 - accuracy: 0.2632\n",
            "Epoch 10/50\n",
            "90/90 [==============================] - 1s 7ms/step - loss: 3.9562 - accuracy: 0.3030\n",
            "Epoch 11/50\n",
            "90/90 [==============================] - 1s 7ms/step - loss: 3.6984 - accuracy: 0.3551\n",
            "Epoch 12/50\n",
            "90/90 [==============================] - 1s 7ms/step - loss: 3.4553 - accuracy: 0.4006\n",
            "Epoch 13/50\n",
            "90/90 [==============================] - 1s 7ms/step - loss: 3.2253 - accuracy: 0.4387\n",
            "Epoch 14/50\n",
            "90/90 [==============================] - 1s 7ms/step - loss: 3.0083 - accuracy: 0.4830\n",
            "Epoch 15/50\n",
            "90/90 [==============================] - 1s 7ms/step - loss: 2.8080 - accuracy: 0.5184\n",
            "Epoch 16/50\n",
            "90/90 [==============================] - 1s 7ms/step - loss: 2.6053 - accuracy: 0.5533\n",
            "Epoch 17/50\n",
            "90/90 [==============================] - 1s 7ms/step - loss: 2.4293 - accuracy: 0.5900\n",
            "Epoch 18/50\n",
            "90/90 [==============================] - 1s 8ms/step - loss: 2.2641 - accuracy: 0.6162\n",
            "Epoch 19/50\n",
            "90/90 [==============================] - 1s 7ms/step - loss: 2.1077 - accuracy: 0.6403\n",
            "Epoch 20/50\n",
            "90/90 [==============================] - 1s 7ms/step - loss: 1.9515 - accuracy: 0.6659\n",
            "Epoch 21/50\n",
            "90/90 [==============================] - 1s 7ms/step - loss: 1.8240 - accuracy: 0.6924\n",
            "Epoch 22/50\n",
            "90/90 [==============================] - 1s 7ms/step - loss: 1.6915 - accuracy: 0.7088\n",
            "Epoch 23/50\n",
            "90/90 [==============================] - 1s 7ms/step - loss: 1.5755 - accuracy: 0.7249\n",
            "Epoch 24/50\n",
            "90/90 [==============================] - 1s 7ms/step - loss: 1.4691 - accuracy: 0.7455\n",
            "Epoch 25/50\n",
            "90/90 [==============================] - 1s 7ms/step - loss: 1.3708 - accuracy: 0.7613\n",
            "Epoch 26/50\n",
            "90/90 [==============================] - 1s 7ms/step - loss: 1.2816 - accuracy: 0.7850\n",
            "Epoch 27/50\n",
            "90/90 [==============================] - 1s 7ms/step - loss: 1.1955 - accuracy: 0.8008\n",
            "Epoch 28/50\n",
            "90/90 [==============================] - 1s 7ms/step - loss: 1.1307 - accuracy: 0.8099\n",
            "Epoch 29/50\n",
            "90/90 [==============================] - 1s 7ms/step - loss: 1.0536 - accuracy: 0.8214\n",
            "Epoch 30/50\n",
            "90/90 [==============================] - 1s 7ms/step - loss: 0.9942 - accuracy: 0.8347\n",
            "Epoch 31/50\n",
            "90/90 [==============================] - 1s 7ms/step - loss: 0.9373 - accuracy: 0.8434\n",
            "Epoch 32/50\n",
            "90/90 [==============================] - 1s 7ms/step - loss: 0.8702 - accuracy: 0.8574\n",
            "Epoch 33/50\n",
            "90/90 [==============================] - 1s 7ms/step - loss: 0.8229 - accuracy: 0.8647\n",
            "Epoch 34/50\n",
            "90/90 [==============================] - 1s 8ms/step - loss: 0.7713 - accuracy: 0.8780\n",
            "Epoch 35/50\n",
            "90/90 [==============================] - 1s 7ms/step - loss: 0.7286 - accuracy: 0.8829\n",
            "Epoch 36/50\n",
            "90/90 [==============================] - 1s 7ms/step - loss: 0.6921 - accuracy: 0.8892\n",
            "Epoch 37/50\n",
            "90/90 [==============================] - 1s 7ms/step - loss: 0.6458 - accuracy: 0.8941\n",
            "Epoch 38/50\n",
            "90/90 [==============================] - 1s 7ms/step - loss: 0.6118 - accuracy: 0.9039\n",
            "Epoch 39/50\n",
            "90/90 [==============================] - 1s 7ms/step - loss: 0.5804 - accuracy: 0.9053\n",
            "Epoch 40/50\n",
            "90/90 [==============================] - 1s 7ms/step - loss: 0.5471 - accuracy: 0.9147\n",
            "Epoch 41/50\n",
            "90/90 [==============================] - 1s 7ms/step - loss: 0.5179 - accuracy: 0.9203\n",
            "Epoch 42/50\n",
            "90/90 [==============================] - 1s 7ms/step - loss: 0.4926 - accuracy: 0.9217\n",
            "Epoch 43/50\n",
            "90/90 [==============================] - 1s 7ms/step - loss: 0.4706 - accuracy: 0.9273\n",
            "Epoch 44/50\n",
            "90/90 [==============================] - 1s 7ms/step - loss: 0.4470 - accuracy: 0.9273\n",
            "Epoch 45/50\n",
            "90/90 [==============================] - 1s 8ms/step - loss: 0.4170 - accuracy: 0.9371\n",
            "Epoch 46/50\n",
            "90/90 [==============================] - 1s 8ms/step - loss: 0.3928 - accuracy: 0.9420\n",
            "Epoch 47/50\n",
            "90/90 [==============================] - 1s 8ms/step - loss: 0.3839 - accuracy: 0.9420\n",
            "Epoch 48/50\n",
            "90/90 [==============================] - 1s 7ms/step - loss: 0.3646 - accuracy: 0.9427\n",
            "Epoch 49/50\n",
            "90/90 [==============================] - 1s 7ms/step - loss: 0.3441 - accuracy: 0.9490\n",
            "Epoch 50/50\n",
            "90/90 [==============================] - 1s 7ms/step - loss: 0.3369 - accuracy: 0.9476\n"
          ]
        }
      ]
    },
    {
      "cell_type": "code",
      "source": [
        "def buildPhrase(texts, str_len=15):\n",
        "    res = texts\n",
        "    data = tokenizer.texts_to_sequences([texts])[0]\n",
        "    for i in range(str_len):\n",
        "        # x = to_categorical(data[i: i + inp_words], num_classes=maxWordsCount)  # преобразуем в One-Hot-encoding\n",
        "        # inp = x.reshape(1, inp_words, maxWordsCount)\n",
        "        x=data[i:i+inp_words]\n",
        "        inp=np.expand_dims(x,axis=0)\n",
        "        pred = model.predict(inp)\n",
        "        indx = pred.argmax(axis=1)[0]\n",
        "        data.append(indx)\n",
        "\n",
        "        res += \" \" + tokenizer.index_word[indx]  # дописываем строку\n",
        "\n",
        "    return res"
      ],
      "metadata": {
        "id": "LTNJtYdvwLmg"
      },
      "execution_count": 72,
      "outputs": []
    },
    {
      "cell_type": "code",
      "source": [
        "res = buildPhrase(\"Аппетит приходит во\")\n",
        "print(res)"
      ],
      "metadata": {
        "colab": {
          "base_uri": "https://localhost:8080/"
        },
        "id": "LFUHaZ3ewiOT",
        "outputId": "e550ed12-56f8-4a2b-dd88-3731cb1a770e"
      },
      "execution_count": 73,
      "outputs": [
        {
          "output_type": "stream",
          "name": "stdout",
          "text": [
            "Аппетит приходит во время еды чем глубже вникаешь к чему либо тот не и когда свой беда не\n"
          ]
        }
      ]
    }
  ]
}