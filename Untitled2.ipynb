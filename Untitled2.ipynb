{
  "nbformat": 4,
  "nbformat_minor": 0,
  "metadata": {
    "colab": {
      "name": "Untitled2.ipynb",
      "provenance": [],
      "authorship_tag": "ABX9TyMMaAIZwSkqbxFdDK/s+SFo",
      "include_colab_link": true
    },
    "kernelspec": {
      "name": "python3",
      "display_name": "Python 3"
    },
    "language_info": {
      "name": "python"
    }
  },
  "cells": [
    {
      "cell_type": "markdown",
      "metadata": {
        "id": "view-in-github",
        "colab_type": "text"
      },
      "source": [
        "<a href=\"https://colab.research.google.com/github/jokend1ng/jokend1ng/blob/jokend1ng-ml_LEANING/Untitled2.ipynb\" target=\"_parent\"><img src=\"https://colab.research.google.com/assets/colab-badge.svg\" alt=\"Open In Colab\"/></a>"
      ]
    },
    {
      "cell_type": "code",
      "execution_count": 47,
      "metadata": {
        "id": "gl0wcPpkfwpc"
      },
      "outputs": [],
      "source": [
        "import os\n",
        "os.environ['TF_CPP_MIN_LOG_LEVEL'] = '2'\n",
        "\n",
        "import numpy as np\n",
        "\n",
        "from tensorflow.keras.layers import Dense, SimpleRNN, Input,Embedding\n",
        "from tensorflow.keras.models import Sequential\n",
        "from tensorflow.keras.preprocessing.text import Tokenizer, text_to_word_sequence\n",
        "from tensorflow.keras.utils import to_categorical\n"
      ]
    },
    {
      "cell_type": "code",
      "source": [
        "with open('text.txt', 'r', encoding='utf-8') as f:\n",
        "    texts = f.read()\n",
        "    texts = texts.replace('\\ufeff', '')  # убираем первый невидимый символ\n",
        " "
      ],
      "metadata": {
        "id": "Iz0E4m3MuZf5"
      },
      "execution_count": 48,
      "outputs": []
    },
    {
      "cell_type": "code",
      "source": [
        "maxWordsCount = 1000\n",
        "tokenizer = Tokenizer(num_words=maxWordsCount, filters='!–\"—#$%&amp;()*+,-./:;<=>?@[\\\\]^_`{|}~\\t\\n\\r«»',\n",
        "                      lower=True, split=' ', char_level=False)\n",
        "tokenizer.fit_on_texts([texts])"
      ],
      "metadata": {
        "id": "ymlDxrBLu8BI"
      },
      "execution_count": 49,
      "outputs": []
    },
    {
      "cell_type": "code",
      "source": [
        "dist = list(tokenizer.word_counts.items())\n",
        "print(dist[:10])"
      ],
      "metadata": {
        "colab": {
          "base_uri": "https://localhost:8080/"
        },
        "id": "ZSTG7wz4vKRe",
        "outputId": "6c169702-746c-4b05-b4d9-8e9bab2c865b"
      },
      "execution_count": 50,
      "outputs": [
        {
          "output_type": "stream",
          "name": "stdout",
          "text": [
            "[('аппетит', 1), ('приходит', 3), ('во', 4), ('время', 5), ('еды', 1), ('чем', 23), ('глубже', 3), ('вникаешь', 2), ('к', 13), ('чему', 4)]\n"
          ]
        }
      ]
    },
    {
      "cell_type": "code",
      "source": [
        "data = tokenizer.texts_to_sequences([texts])\n",
        "# res = to_categorical(data[0], num_classes=maxWordsCount)\n",
        "# print(res.shape)\n",
        "res=np.array(data[0])"
      ],
      "metadata": {
        "id": "FiaRPw1DvaWm"
      },
      "execution_count": 53,
      "outputs": []
    },
    {
      "cell_type": "code",
      "source": [
        "inp_words = 3\n",
        "n = res.shape[0] - inp_words"
      ],
      "metadata": {
        "id": "dyG6ZtgmvhwZ"
      },
      "execution_count": 54,
      "outputs": []
    },
    {
      "cell_type": "code",
      "source": [
        "X = np.array([res[i:i + inp_words] for i in range(n)])\n",
        "Y = to_categorical(res[inp_words:],num_classes=maxWordsCount)\n"
      ],
      "metadata": {
        "id": "W-CNF5nuvwzU"
      },
      "execution_count": 57,
      "outputs": []
    },
    {
      "cell_type": "code",
      "source": [
        "model = Sequential()\n",
        "model.add(Embedding(maxWordsCount,64,input_length=inp_words))\n",
        "model.add(Input((inp_words, maxWordsCount)))\n",
        "\n",
        "model.add(SimpleRNN(64, activation='tanh'))\n",
        "model.add(Dense(maxWordsCount, activation='softmax'))\n",
        "model.summary()\n",
        "\n",
        "model.compile(loss='categorical_crossentropy', metrics=['accuracy'], optimizer='adam')\n",
        "\n",
        "history = model.fit(X, Y, batch_size=32, epochs=50)"
      ],
      "metadata": {
        "colab": {
          "base_uri": "https://localhost:8080/"
        },
        "id": "iy57p7YvwBVi",
        "outputId": "adc9b045-7020-4be6-d58e-04f44c236b79"
      },
      "execution_count": 61,
      "outputs": [
        {
          "output_type": "stream",
          "name": "stdout",
          "text": [
            "Model: \"sequential_8\"\n",
            "_________________________________________________________________\n",
            " Layer (type)                Output Shape              Param #   \n",
            "=================================================================\n",
            " embedding_3 (Embedding)     (None, 3, 64)             64000     \n",
            "                                                                 \n",
            " input_9 (InputLayer)        multiple                  0         \n",
            "                                                                 \n",
            " simple_rnn_6 (SimpleRNN)    (None, 64)                8256      \n",
            "                                                                 \n",
            " dense_5 (Dense)             (None, 1000)              65000     \n",
            "                                                                 \n",
            "=================================================================\n",
            "Total params: 137,256\n",
            "Trainable params: 137,256\n",
            "Non-trainable params: 0\n",
            "_________________________________________________________________\n",
            "Epoch 1/50\n",
            "90/90 [==============================] - 1s 5ms/step - loss: 6.6524 - accuracy: 0.0521\n",
            "Epoch 2/50\n",
            "90/90 [==============================] - 0s 5ms/step - loss: 6.0151 - accuracy: 0.0650\n",
            "Epoch 3/50\n",
            "90/90 [==============================] - 0s 5ms/step - loss: 5.8613 - accuracy: 0.0657\n",
            "Epoch 4/50\n",
            "90/90 [==============================] - 0s 5ms/step - loss: 5.7408 - accuracy: 0.0678\n",
            "Epoch 5/50\n",
            "90/90 [==============================] - 0s 5ms/step - loss: 5.5928 - accuracy: 0.0720\n",
            "Epoch 6/50\n",
            "90/90 [==============================] - 0s 5ms/step - loss: 5.4041 - accuracy: 0.0839\n",
            "Epoch 7/50\n",
            "90/90 [==============================] - 0s 5ms/step - loss: 5.1725 - accuracy: 0.1052\n",
            "Epoch 8/50\n",
            "90/90 [==============================] - 0s 5ms/step - loss: 4.9334 - accuracy: 0.1237\n",
            "Epoch 9/50\n",
            "90/90 [==============================] - 0s 5ms/step - loss: 4.6927 - accuracy: 0.1489\n",
            "Epoch 10/50\n",
            "90/90 [==============================] - 0s 5ms/step - loss: 4.4557 - accuracy: 0.1849\n",
            "Epoch 11/50\n",
            "90/90 [==============================] - 0s 5ms/step - loss: 4.2229 - accuracy: 0.2244\n",
            "Epoch 12/50\n",
            "90/90 [==============================] - 0s 5ms/step - loss: 3.9997 - accuracy: 0.2716\n",
            "Epoch 13/50\n",
            "90/90 [==============================] - 0s 5ms/step - loss: 3.7849 - accuracy: 0.3135\n",
            "Epoch 14/50\n",
            "90/90 [==============================] - 0s 5ms/step - loss: 3.5766 - accuracy: 0.3653\n",
            "Epoch 15/50\n",
            "90/90 [==============================] - 0s 5ms/step - loss: 3.3723 - accuracy: 0.4034\n",
            "Epoch 16/50\n",
            "90/90 [==============================] - 0s 5ms/step - loss: 3.1849 - accuracy: 0.4331\n",
            "Epoch 17/50\n",
            "90/90 [==============================] - 0s 5ms/step - loss: 2.9981 - accuracy: 0.4771\n",
            "Epoch 18/50\n",
            "90/90 [==============================] - 0s 5ms/step - loss: 2.8190 - accuracy: 0.4991\n",
            "Epoch 19/50\n",
            "90/90 [==============================] - 0s 5ms/step - loss: 2.6524 - accuracy: 0.5348\n",
            "Epoch 20/50\n",
            "90/90 [==============================] - 0s 5ms/step - loss: 2.4902 - accuracy: 0.5676\n",
            "Epoch 21/50\n",
            "90/90 [==============================] - 1s 6ms/step - loss: 2.3367 - accuracy: 0.5921\n",
            "Epoch 22/50\n",
            "90/90 [==============================] - 1s 6ms/step - loss: 2.1924 - accuracy: 0.6155\n",
            "Epoch 23/50\n",
            "90/90 [==============================] - 1s 6ms/step - loss: 2.0589 - accuracy: 0.6403\n",
            "Epoch 24/50\n",
            "90/90 [==============================] - 0s 5ms/step - loss: 1.9281 - accuracy: 0.6634\n",
            "Epoch 25/50\n",
            "90/90 [==============================] - 0s 5ms/step - loss: 1.8074 - accuracy: 0.6882\n",
            "Epoch 26/50\n",
            "90/90 [==============================] - 0s 5ms/step - loss: 1.6967 - accuracy: 0.7092\n",
            "Epoch 27/50\n",
            "90/90 [==============================] - 0s 5ms/step - loss: 1.5918 - accuracy: 0.7256\n",
            "Epoch 28/50\n",
            "90/90 [==============================] - 0s 5ms/step - loss: 1.4918 - accuracy: 0.7543\n",
            "Epoch 29/50\n",
            "90/90 [==============================] - 0s 5ms/step - loss: 1.3974 - accuracy: 0.7721\n",
            "Epoch 30/50\n",
            "90/90 [==============================] - 0s 5ms/step - loss: 1.3117 - accuracy: 0.7878\n",
            "Epoch 31/50\n",
            "90/90 [==============================] - 0s 5ms/step - loss: 1.2314 - accuracy: 0.8011\n",
            "Epoch 32/50\n",
            "90/90 [==============================] - 0s 5ms/step - loss: 1.1583 - accuracy: 0.8165\n",
            "Epoch 33/50\n",
            "90/90 [==============================] - 0s 5ms/step - loss: 1.0859 - accuracy: 0.8273\n",
            "Epoch 34/50\n",
            "90/90 [==============================] - 0s 5ms/step - loss: 1.0205 - accuracy: 0.8403\n",
            "Epoch 35/50\n",
            "90/90 [==============================] - 0s 5ms/step - loss: 0.9585 - accuracy: 0.8556\n",
            "Epoch 36/50\n",
            "90/90 [==============================] - 0s 5ms/step - loss: 0.9012 - accuracy: 0.8612\n",
            "Epoch 37/50\n",
            "90/90 [==============================] - 0s 5ms/step - loss: 0.8440 - accuracy: 0.8710\n",
            "Epoch 38/50\n",
            "90/90 [==============================] - 0s 5ms/step - loss: 0.7972 - accuracy: 0.8819\n",
            "Epoch 39/50\n",
            "90/90 [==============================] - 0s 5ms/step - loss: 0.7481 - accuracy: 0.8913\n",
            "Epoch 40/50\n",
            "90/90 [==============================] - 0s 5ms/step - loss: 0.7035 - accuracy: 0.8976\n",
            "Epoch 41/50\n",
            "90/90 [==============================] - 0s 5ms/step - loss: 0.6644 - accuracy: 0.9021\n",
            "Epoch 42/50\n",
            "90/90 [==============================] - 0s 5ms/step - loss: 0.6234 - accuracy: 0.9140\n",
            "Epoch 43/50\n",
            "90/90 [==============================] - 0s 5ms/step - loss: 0.5866 - accuracy: 0.9189\n",
            "Epoch 44/50\n",
            "90/90 [==============================] - 0s 5ms/step - loss: 0.5521 - accuracy: 0.9245\n",
            "Epoch 45/50\n",
            "90/90 [==============================] - 0s 5ms/step - loss: 0.5187 - accuracy: 0.9332\n",
            "Epoch 46/50\n",
            "90/90 [==============================] - 0s 5ms/step - loss: 0.4878 - accuracy: 0.9343\n",
            "Epoch 47/50\n",
            "90/90 [==============================] - 0s 5ms/step - loss: 0.4604 - accuracy: 0.9420\n",
            "Epoch 48/50\n",
            "90/90 [==============================] - 0s 5ms/step - loss: 0.4335 - accuracy: 0.9423\n",
            "Epoch 49/50\n",
            "90/90 [==============================] - 0s 5ms/step - loss: 0.4072 - accuracy: 0.9507\n",
            "Epoch 50/50\n",
            "90/90 [==============================] - 0s 5ms/step - loss: 0.3844 - accuracy: 0.9556\n"
          ]
        }
      ]
    },
    {
      "cell_type": "code",
      "source": [
        "def buildPhrase(texts, str_len=15):\n",
        "    res = texts\n",
        "    data = tokenizer.texts_to_sequences([texts])[0]\n",
        "    for i in range(str_len):\n",
        "        # x = to_categorical(data[i: i + inp_words], num_classes=maxWordsCount)  # преобразуем в One-Hot-encoding\n",
        "        # inp = x.reshape(1, inp_words, maxWordsCount)\n",
        "        x=data[i:i+inp_words]\n",
        "        inp=np.expand_dims(x,axis=0)\n",
        "        pred = model.predict(inp)\n",
        "        indx = pred.argmax(axis=1)[0]\n",
        "        data.append(indx)\n",
        "\n",
        "        res += \" \" + tokenizer.index_word[indx]  # дописываем строку\n",
        "\n",
        "    return res"
      ],
      "metadata": {
        "id": "LTNJtYdvwLmg"
      },
      "execution_count": 62,
      "outputs": []
    },
    {
      "cell_type": "code",
      "source": [
        "res = buildPhrase(\"Аппетит приходит во\")\n",
        "print(res)"
      ],
      "metadata": {
        "colab": {
          "base_uri": "https://localhost:8080/"
        },
        "id": "LFUHaZ3ewiOT",
        "outputId": "254c20d3-32e2-4d72-a0ae-64934f979df9"
      },
      "execution_count": 63,
      "outputs": [
        {
          "output_type": "stream",
          "name": "stdout",
          "text": [
            "Аппетит приходит во время еды чем глубже вникаешь к чему либо тем больше это узнаёшь баба с возу\n"
          ]
        }
      ]
    }
  ]
}